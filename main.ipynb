{
 "cells": [
  {
   "cell_type": "code",
   "execution_count": 3,
   "id": "4135a888",
   "metadata": {},
   "outputs": [],
   "source": [
    "def triangle(height, base):\n",
    "    return 0.5 * height * base\n",
    "\n",
    "def rectangle(length, breadth):\n",
    "    return length * breadth\n",
    "\n",
    "def square(side):\n",
    "    return side**2"
   ]
  },
  {
   "cell_type": "code",
   "execution_count": 4,
   "id": "58d25ab5",
   "metadata": {},
   "outputs": [
    {
     "data": {
      "text/plain": [
       "6.0"
      ]
     },
     "execution_count": 4,
     "metadata": {},
     "output_type": "execute_result"
    }
   ],
   "source": [
    "triangle(4, 3)"
   ]
  },
  {
   "cell_type": "code",
   "execution_count": 5,
   "id": "ef4d4f0e",
   "metadata": {},
   "outputs": [
    {
     "data": {
      "text/plain": [
       "12"
      ]
     },
     "execution_count": 5,
     "metadata": {},
     "output_type": "execute_result"
    }
   ],
   "source": [
    "rectangle(4,3)"
   ]
  },
  {
   "cell_type": "code",
   "execution_count": 6,
   "id": "33614d33",
   "metadata": {},
   "outputs": [
    {
     "data": {
      "text/plain": [
       "25"
      ]
     },
     "execution_count": 6,
     "metadata": {},
     "output_type": "execute_result"
    }
   ],
   "source": [
    "square(5)"
   ]
  },
  {
   "cell_type": "code",
   "execution_count": null,
   "id": "e45bafb8",
   "metadata": {},
   "outputs": [],
   "source": [
    "\"\"\"\n",
    "DOCSTRING: \"\"\""
   ]
  }
 ],
 "metadata": {
  "kernelspec": {
   "display_name": ".aivenv",
   "language": "python",
   "name": "python3"
  },
  "language_info": {
   "codemirror_mode": {
    "name": "ipython",
    "version": 3
   },
   "file_extension": ".py",
   "mimetype": "text/x-python",
   "name": "python",
   "nbconvert_exporter": "python",
   "pygments_lexer": "ipython3",
   "version": "3.12.3"
  }
 },
 "nbformat": 4,
 "nbformat_minor": 5
}
